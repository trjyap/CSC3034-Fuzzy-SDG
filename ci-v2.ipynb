{
 "cells": [
  {
   "cell_type": "code",
   "execution_count": 1,
   "id": "2b40a021",
   "metadata": {},
   "outputs": [],
   "source": [
    "import pandas as pd\n",
    "import numpy as np\n",
    "from skfuzzy import control as ctrl\n",
    "from skfuzzy import membership as mf"
   ]
  },
  {
   "cell_type": "code",
   "execution_count": 2,
   "id": "21735d41",
   "metadata": {},
   "outputs": [],
   "source": [
    "#example meals database\n",
    "\n",
    "meals = pd.DataFrame(data = {\n",
    "        'calories':[300, 650, 800, 600, 400, 550],\n",
    "        'protein':[10, 25, 20, 15, 18, 30],\n",
    "        'fiber':[12, 4, 2, 1, 5, 6], \n",
    "        'price':[8, 7, 12, 6, 5, 10]\n",
    "        }, index = ['salad', 'chicken rice', 'burger', 'fried nuggets', 'sandwich', 'grilled fish'])"
   ]
  },
  {
   "cell_type": "code",
   "execution_count": 3,
   "id": "56b492f4",
   "metadata": {},
   "outputs": [],
   "source": [
    "#input variables\n",
    "caloryDiff = ctrl.Antecedent(np.arange(0, 1000, 1), 'caloryDiff')\n",
    "proteinDiff = ctrl.Antecedent(np.arange(0, 50, 1), 'proteinDiff')\n",
    "fiberDiff = ctrl.Antecedent(np.arange(0, 20, 1), 'fiberDiff')\n",
    "# priceDiff = ctrl.Antecedent(np.arange(0, 20, 1), 'priceDiff')\n",
    "\n",
    "#output variable\n",
    "suitability = ctrl.Consequent(np.arange(0, 10, 1), 'suitability')"
   ]
  },
  {
   "cell_type": "code",
   "execution_count": 4,
   "id": "5deedbef",
   "metadata": {},
   "outputs": [],
   "source": [
    "#membership functions\n",
    "caloryDiff['low'] = mf.trimf(caloryDiff.universe, [0, 0, 400])\n",
    "caloryDiff['mid'] = mf.trimf(caloryDiff.universe, [300, 500, 700])\n",
    "caloryDiff['high'] = mf.trapmf(caloryDiff.universe, [600, 800, 1000, 1000])\n",
    "\n",
    "proteinDiff['low'] = mf.trimf(proteinDiff.universe, [0, 0, 15])\n",
    "proteinDiff['mid'] = mf.trimf(proteinDiff.universe, [10, 25, 35])\n",
    "proteinDiff['high'] = mf.trapmf(proteinDiff.universe, [30, 40, 50, 50])\n",
    "\n",
    "fiberDiff['low'] = mf.trimf(fiberDiff.universe, [0, 0, 5])\n",
    "fiberDiff['mid'] = mf.trimf(fiberDiff.universe, [4, 8, 12])\n",
    "fiberDiff['high'] = mf.trapmf(fiberDiff.universe, [10, 15, 20, 20])\n",
    "\n",
    "# priceDiff['low'] = mf.trapmf(priceDiff.universe, [0, 0, 5, 7])\n",
    "# priceDiff['mid'] = mf.trimf(priceDiff.universe, [5, 10, 13])\n",
    "# priceDiff['high'] = mf.trapmf(priceDiff.universe, [10, 15, 20, 20])\n",
    "\n",
    "suitability['not'] = mf.trimf(suitability.universe, [0, 0, 2])\n",
    "suitability['slightly'] = mf.trimf(suitability.universe, [1, 3, 4])\n",
    "suitability['kinda'] = mf.trimf(suitability.universe, [3, 5, 6])\n",
    "suitability['very'] = mf.trimf(suitability.universe, [5, 7, 8])\n",
    "suitability['match'] = mf.trapmf(suitability.universe, [7, 9, 10, 10])"
   ]
  },
  {
   "cell_type": "code",
   "execution_count": 5,
   "id": "6e1e8a87",
   "metadata": {},
   "outputs": [],
   "source": [
    "#system rules\n",
    "\n",
    "rules = [\n",
    "    ctrl.Rule(caloryDiff['low'] & proteinDiff['low'] & fiberDiff['low'], (suitability['match'])),\n",
    "    ctrl.Rule(caloryDiff['low'] & proteinDiff['low'] & fiberDiff['mid'], (suitability['very'])),\n",
    "    ctrl.Rule(caloryDiff['low'] & proteinDiff['low'] & fiberDiff['high'], (suitability['very'])),\n",
    "\n",
    "    ctrl.Rule(caloryDiff['low'] & proteinDiff['mid'] & fiberDiff['low'], (suitability['very'])),\n",
    "    ctrl.Rule(caloryDiff['low'] & proteinDiff['mid'] & fiberDiff['mid'], (suitability['kinda'])),\n",
    "    ctrl.Rule(caloryDiff['low'] & proteinDiff['mid'] & fiberDiff['high'], (suitability['kinda'])),\n",
    "\n",
    "    ctrl.Rule(caloryDiff['low'] & proteinDiff['high'] & fiberDiff['low'], (suitability['very'])),\n",
    "    ctrl.Rule(caloryDiff['low'] & proteinDiff['high'] & fiberDiff['mid'], (suitability['kinda'])),\n",
    "    ctrl.Rule(caloryDiff['low'] & proteinDiff['high'] & fiberDiff['high'], (suitability['slightly'])),\n",
    "\n",
    "    ctrl.Rule(caloryDiff['mid'] & proteinDiff['low'] & fiberDiff['low'], (suitability['very'])),\n",
    "    ctrl.Rule(caloryDiff['mid'] & proteinDiff['low'] & fiberDiff['mid'], (suitability['kinda'])),\n",
    "    ctrl.Rule(caloryDiff['mid'] & proteinDiff['low'] & fiberDiff['high'], (suitability['kinda'])),\n",
    "\n",
    "    ctrl.Rule(caloryDiff['mid'] & proteinDiff['mid'] & fiberDiff['low'], (suitability['kinda'])),\n",
    "    ctrl.Rule(caloryDiff['mid'] & proteinDiff['mid'] & fiberDiff['mid'], (suitability['kinda'])),\n",
    "    ctrl.Rule(caloryDiff['mid'] & proteinDiff['mid'] & fiberDiff['high'], (suitability['kinda'])),\n",
    "\n",
    "    ctrl.Rule(caloryDiff['mid'] & proteinDiff['high'] & fiberDiff['low'], (suitability['kinda'])),\n",
    "    ctrl.Rule(caloryDiff['mid'] & proteinDiff['high'] & fiberDiff['mid'], (suitability['slightly'])),\n",
    "    ctrl.Rule(caloryDiff['mid'] & proteinDiff['high'] & fiberDiff['high'], (suitability['not'])),\n",
    "\n",
    "    ctrl.Rule(caloryDiff['high'] & proteinDiff['low'] & fiberDiff['low'], (suitability['very'])),\n",
    "    ctrl.Rule(caloryDiff['high'] & proteinDiff['low'] & fiberDiff['mid'], (suitability['slightly'])),\n",
    "    ctrl.Rule(caloryDiff['high'] & proteinDiff['low'] & fiberDiff['high'], (suitability['slightly'])),\n",
    "\n",
    "    ctrl.Rule(caloryDiff['high'] & proteinDiff['mid'] & fiberDiff['low'], (suitability['slightly'])),\n",
    "    ctrl.Rule(caloryDiff['high'] & proteinDiff['mid'] & fiberDiff['mid'], (suitability['not'])),\n",
    "    ctrl.Rule(caloryDiff['high'] & proteinDiff['mid'] & fiberDiff['high'], (suitability['not'])),\n",
    "\n",
    "    ctrl.Rule(caloryDiff['high'] & proteinDiff['high'] & fiberDiff['low'], (suitability['slightly'])),\n",
    "    ctrl.Rule(caloryDiff['high'] & proteinDiff['high'] & fiberDiff['mid'], (suitability['not'])),\n",
    "    ctrl.Rule(caloryDiff['high'] & proteinDiff['high'] & fiberDiff['high'], (suitability['not'])),\n",
    "]\n",
    "\n",
    "food_ctrl = ctrl.ControlSystem(rules=rules)\n",
    "\n",
    "food = ctrl.ControlSystemSimulation(control_system=food_ctrl)"
   ]
  },
  {
   "cell_type": "code",
   "execution_count": 6,
   "id": "029f673d",
   "metadata": {},
   "outputs": [
    {
     "name": "stdout",
     "output_type": "stream",
     "text": [
      "               0         1\n",
      "0          salad  6.559524\n",
      "1   chicken rice  3.548936\n",
      "2         burger  2.628571\n",
      "3  fried nuggets  4.577778\n",
      "4       sandwich  4.559524\n",
      "5   grilled fish  4.611111\n"
     ]
    }
   ],
   "source": [
    "#user input how many nutrient they want\n",
    "calories = 0\n",
    "protein = 0\n",
    "fiber = 0\n",
    "budget = 10\n",
    "\n",
    "result = []\n",
    "result.clear()\n",
    "\n",
    "#calculate the difference in nutrients to get suitability\n",
    "for meal in meals.itertuples():\n",
    "    food.input['caloryDiff'] = abs(calories - meal.calories)\n",
    "    food.input['proteinDiff'] = abs(protein - meal.protein)\n",
    "    food.input['fiberDiff'] = abs(fiber - meal.fiber)\n",
    "\n",
    "    food.compute()\n",
    "    result.append([meal.Index, food.output['suitability']])\n",
    "\n",
    "\n",
    "print(pd.DataFrame(result))"
   ]
  }
 ],
 "metadata": {
  "kernelspec": {
   "display_name": "base",
   "language": "python",
   "name": "python3"
  },
  "language_info": {
   "codemirror_mode": {
    "name": "ipython",
    "version": 3
   },
   "file_extension": ".py",
   "mimetype": "text/x-python",
   "name": "python",
   "nbconvert_exporter": "python",
   "pygments_lexer": "ipython3",
   "version": "3.13.5"
  }
 },
 "nbformat": 4,
 "nbformat_minor": 5
}
